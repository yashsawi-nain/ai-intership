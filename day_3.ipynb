{
  "nbformat": 4,
  "nbformat_minor": 0,
  "metadata": {
    "colab": {
      "provenance": []
    },
    "kernelspec": {
      "name": "python3",
      "display_name": "Python 3"
    },
    "language_info": {
      "name": "python"
    }
  },
  "cells": [
    {
      "cell_type": "markdown",
      "source": [
        "1. Setup & Data Loading"
      ],
      "metadata": {
        "id": "DDxtcQsuIoKl"
      }
    },
    {
      "cell_type": "code",
      "execution_count": null,
      "metadata": {
        "id": "C62A1DVzIg3Z"
      },
      "outputs": [],
      "source": [
        "import tensorflow as tf\n",
        "from tensorflow.keras.models import Sequential\n",
        "from tensorflow.keras.layers import Dense, Dropout, Flatten\n",
        "from tensorflow.keras.optimizers import Adam, SGD\n",
        "from sklearn.metrics import confusion_matrix, ConfusionMatrixDisplay\n",
        "import matplotlib.pyplot as plt\n",
        "import numpy as np\n",
        "\n",
        "# Load data (using MNIST for demo)\n",
        "mnist = tf.keras.datasets.mnist\n",
        "(x_train, y_train), (x_test, y_test) = mnist.load_data()\n",
        "\n",
        "# Normalize\n",
        "x_train, x_test = x_train / 255.0, x_test / 255.0\n"
      ]
    },
    {
      "cell_type": "markdown",
      "source": [
        "2. Build & Train the Original Model"
      ],
      "metadata": {
        "id": "S0a9UekEIuxS"
      }
    },
    {
      "cell_type": "code",
      "source": [
        "# Original model\n",
        "model = Sequential([\n",
        "    Flatten(input_shape=(28, 28)),\n",
        "    Dense(128, activation='relu'),\n",
        "    Dense(10, activation='softmax')\n",
        "])\n",
        "\n",
        "model.compile(optimizer='adam',\n",
        "              loss='sparse_categorical_crossentropy',\n",
        "              metrics=['accuracy'])\n",
        "\n",
        "history = model.fit(x_train, y_train, epochs=5, validation_split=0.2)\n"
      ],
      "metadata": {
        "id": "lmdVCYjOI2yP"
      },
      "execution_count": null,
      "outputs": []
    },
    {
      "cell_type": "markdown",
      "source": [
        "3. Plot Training vs Validation Accuracy/Los"
      ],
      "metadata": {
        "id": "L9RH1tV5I4sI"
      }
    },
    {
      "cell_type": "code",
      "source": [
        "def plot_history(hist):\n",
        "    plt.figure(figsize=(12, 5))\n",
        "    plt.subplot(1, 2, 1)\n",
        "    plt.plot(hist.history['accuracy'], label='Train Accuracy')\n",
        "    plt.plot(hist.history['val_accuracy'], label='Val Accuracy')\n",
        "    plt.legend()\n",
        "    plt.title(\"Accuracy\")\n",
        "\n",
        "    plt.subplot(1, 2, 2)\n",
        "    plt.plot(hist.history['loss'], label='Train Loss')\n",
        "    plt.plot(hist.history['val_loss'], label='Val Loss')\n",
        "    plt.legend()\n",
        "    plt.title(\"Loss\")\n",
        "    plt.show()\n",
        "\n",
        "plot_history(history)\n"
      ],
      "metadata": {
        "id": "_WvtmSV1I-rd"
      },
      "execution_count": null,
      "outputs": []
    },
    {
      "cell_type": "markdown",
      "source": [
        "4. Confusion Matrix for Original Model"
      ],
      "metadata": {
        "id": "vlUlF0R9JIRQ"
      }
    },
    {
      "cell_type": "code",
      "source": [
        "y_pred = np.argmax(model.predict(x_test), axis=1)\n",
        "cm = confusion_matrix(y_test, y_pred)\n",
        "disp = ConfusionMatrixDisplay(confusion_matrix=cm)\n",
        "disp.plot()\n"
      ],
      "metadata": {
        "id": "926VHOTNJJJS"
      },
      "execution_count": null,
      "outputs": []
    },
    {
      "cell_type": "markdown",
      "source": [
        "5. Improved Model (Added Dropout & SGD Optimizer)"
      ],
      "metadata": {
        "id": "sPf_nsJUJLi6"
      }
    },
    {
      "cell_type": "code",
      "source": [
        "model_improved = Sequential([\n",
        "    Flatten(input_shape=(28, 28)),\n",
        "    Dense(128, activation='relu'),\n",
        "    Dropout(0.3),\n",
        "    Dense(64, activation='relu'),\n",
        "    Dropout(0.2),\n",
        "    Dense(10, activation='softmax')\n",
        "])\n",
        "\n",
        "model_improved.compile(optimizer=SGD(learning_rate=0.01),\n",
        "                       loss='sparse_categorical_crossentropy',\n",
        "                       metrics=['accuracy'])\n",
        "\n",
        "history_improved = model_improved.fit(x_train, y_train, epochs=10, validation_split=0.2)\n"
      ],
      "metadata": {
        "id": "-nR1OspOJThd"
      },
      "execution_count": null,
      "outputs": []
    },
    {
      "cell_type": "markdown",
      "source": [
        "6.Plot Improved Model Results"
      ],
      "metadata": {
        "id": "L6beRP44JaBb"
      }
    },
    {
      "cell_type": "code",
      "source": [
        "plot_history(history_improved)\n"
      ],
      "metadata": {
        "id": "UBcutATBJnt6"
      },
      "execution_count": null,
      "outputs": []
    },
    {
      "cell_type": "markdown",
      "source": [
        "7.Confusion Matrix for Improved Model"
      ],
      "metadata": {
        "id": "yC_sU5BtJqsX"
      }
    },
    {
      "cell_type": "code",
      "source": [
        "y_pred_improved = np.argmax(model_improved.predict(x_test), axis=1)\n",
        "cm_improved = confusion_matrix(y_test, y_pred_improved)\n",
        "disp = ConfusionMatrixDisplay(confusion_matrix=cm_improved)\n",
        "disp.plot()\n"
      ],
      "metadata": {
        "id": "W4i_rUQHJvIf"
      },
      "execution_count": null,
      "outputs": []
    },
    {
      "cell_type": "markdown",
      "source": [
        "### Write-Up:\n",
        "For improving the original model, I made two main changes:\n",
        "1. Added two Dropout layers (0.3 and 0.2) to reduce overfitting.\n",
        "2. Switched the optimizer from Adam to SGD with a learning rate of 0.01.\n",
        "\n",
        "These changes resulted in more stable validation accuracy and reduced overfitting compared to the original model. The confusion matrix also shows fewer misclassifications in the improved model.\n"
      ],
      "metadata": {
        "id": "qZWCDgqCJ2mh"
      }
    }
  ]
}