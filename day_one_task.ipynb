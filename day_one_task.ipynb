{
  "nbformat": 4,
  "nbformat_minor": 0,
  "metadata": {
    "colab": {
      "provenance": []
    },
    "kernelspec": {
      "name": "python3",
      "display_name": "Python 3"
    },
    "language_info": {
      "name": "python"
    }
  },
  "cells": [
    {
      "cell_type": "markdown",
      "source": [
        "##load MNIST Dataset"
      ],
      "metadata": {
        "id": "tgFNjCcfEdGP"
      }
    },
    {
      "cell_type": "code",
      "source": [
        "from tensorflow.keras.datasets import mnist\n",
        "(X_train, y_train), (X_test, y_test) = mnist.load_data()"
      ],
      "metadata": {
        "id": "3SfsbF48EkBb"
      },
      "execution_count": null,
      "outputs": []
    },
    {
      "cell_type": "markdown",
      "source": [
        "##Visualizing Sample Images\n"
      ],
      "metadata": {
        "id": "mOgY_b2pElOv"
      }
    },
    {
      "cell_type": "code",
      "source": [
        "import matplotlib.pyplot as plt\n",
        "for i in range(5):\n",
        "    plt.imshow(X_train[i], cmap='gray')\n",
        "    plt.title(f'Label: {y_train[i]}')\n",
        "    plt.axis('off')\n",
        "    plt.show()"
      ],
      "metadata": {
        "id": "1moSNY_sEuqE"
      },
      "execution_count": null,
      "outputs": []
    },
    {
      "cell_type": "markdown",
      "source": [
        "## normalizing and reshaping images\n"
      ],
      "metadata": {
        "id": "GHx5_1ayEwDt"
      }
    },
    {
      "cell_type": "code",
      "source": [
        "X_train = X_train / 255.0\n",
        "X_test = X_test / 255.0\n",
        "\n",
        "X_train = X_train.reshape(-1, 28, 28, 1)\n",
        "X_test = X_test.reshape(-1, 28, 28, 1)"
      ],
      "metadata": {
        "id": "gSYKDNFtE4I2"
      },
      "execution_count": null,
      "outputs": []
    },
    {
      "cell_type": "markdown",
      "source": [
        "##one shot Encoding lables"
      ],
      "metadata": {
        "id": "t5ZEsQTQE4-e"
      }
    },
    {
      "cell_type": "code",
      "source": [
        "from tensorflow.keras.utils import to_categorical\n",
        "y_train = to_categorical(y_train, 10)\n",
        "y_test = to_categorical(y_test, 10)"
      ],
      "metadata": {
        "id": "y3ZpmeWfFBM5"
      },
      "execution_count": null,
      "outputs": []
    },
    {
      "cell_type": "markdown",
      "source": [
        "### Summary\n",
        "\n",
        "- AI is the broad field of machines behaving smart like humans  \n",
        "- ML is a part of AI that learns from data  \n",
        "- Deep Learning is like ML but with neural networks—more layers, more power  \n",
        "- Types of ML: supervised, unsupervised, reinforcement  \n",
        "- MNIST = dataset of handwritten digits (0–9), used for training models"
      ],
      "metadata": {
        "id": "4NIIkJobFmWW"
      }
    }
  ]
}